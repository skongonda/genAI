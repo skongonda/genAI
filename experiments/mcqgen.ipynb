{
 "cells": [
  {
   "cell_type": "code",
   "execution_count": 1,
   "metadata": {},
   "outputs": [],
   "source": [
    "# %pip install langchain_community\n",
    "\n",
    "from langchain.llms import OpenAI\n",
    "from langchain.chat_models import ChatOpenAI\n",
    "from langchain.prompts import PromptTemplate\n",
    "from langchain.chains import LLMChain\n",
    "from langchain.chains import SequentialChain\n",
    "from langchain.callbacks import get_openai_callback\n",
    "import PyPDF2\n",
    "import os\n",
    "import json\n",
    "import pandas as pd\n",
    "import traceback\n",
    "from dotenv import load_dotenv"
   ]
  },
  {
   "cell_type": "code",
   "execution_count": 2,
   "metadata": {},
   "outputs": [
    {
     "data": {
      "text/plain": [
       "True"
      ]
     },
     "execution_count": 2,
     "metadata": {},
     "output_type": "execute_result"
    }
   ],
   "source": [
    "load_dotenv()"
   ]
  },
  {
   "cell_type": "code",
   "execution_count": 3,
   "metadata": {},
   "outputs": [],
   "source": [
    "myOpenAIapiKEY=os.getenv(\"OPENAI_API_KEY\")"
   ]
  },
  {
   "cell_type": "code",
   "execution_count": 4,
   "metadata": {},
   "outputs": [
    {
     "name": "stderr",
     "output_type": "stream",
     "text": [
      "C:\\Users\\skong\\AppData\\Local\\Temp\\ipykernel_23516\\2529314549.py:1: LangChainDeprecationWarning: The class `ChatOpenAI` was deprecated in LangChain 0.0.10 and will be removed in 1.0. An updated version of the class exists in the langchain-openai package and should be used instead. To use it run `pip install -U langchain-openai` and import as `from langchain_openai import ChatOpenAI`.\n",
      "  llm=ChatOpenAI(openai_api_key=myOpenAIapiKEY,model_name=\"gpt-3.5-turbo\", temperature=0.7)\n"
     ]
    }
   ],
   "source": [
    "llm=ChatOpenAI(openai_api_key=myOpenAIapiKEY,model_name=\"gpt-3.5-turbo\", temperature=0.7)"
   ]
  },
  {
   "cell_type": "code",
   "execution_count": 5,
   "metadata": {},
   "outputs": [],
   "source": [
    "with open(\"D:\\\\Lab Setup\\\\MCQ Generator\\\\genAI\\\\response.json\", 'r') as file:\n",
    "    RESPONSE_JSON = json.load(file)"
   ]
  },
  {
   "cell_type": "code",
   "execution_count": 6,
   "metadata": {},
   "outputs": [
    {
     "data": {
      "text/plain": [
       "{'1': {'mcq': 'multiple choice question',\n",
       "  'options': {'a': 'choice here',\n",
       "   'b': 'choice here',\n",
       "   'c': 'choice here',\n",
       "   'd': 'choice here'},\n",
       "  'correct': 'correct answer'},\n",
       " '2': {'mcq': 'multiple choice question',\n",
       "  'options': {'a': 'choice here',\n",
       "   'b': 'choice here',\n",
       "   'c': 'choice here',\n",
       "   'd': 'choice here'},\n",
       "  'correct': 'correct answer'},\n",
       " '3': {'mcq': 'multiple choice question',\n",
       "  'options': {'a': 'choice here',\n",
       "   'b': 'choice here',\n",
       "   'c': 'choice here',\n",
       "   'd': 'choice here'},\n",
       "  'correct': 'correct answer'}}"
      ]
     },
     "execution_count": 6,
     "metadata": {},
     "output_type": "execute_result"
    }
   ],
   "source": [
    "RESPONSE_JSON"
   ]
  },
  {
   "cell_type": "code",
   "execution_count": 7,
   "metadata": {},
   "outputs": [],
   "source": [
    "TEMPLATE=\"\"\"\n",
    "Text:{text}\n",
    "You are an expert MCQ maker. Given the above text, it is your job to \\\n",
    "create a quiz  of {number} multiple choice questions for {subject} students in {tone} tone. \n",
    "Make sure the questions are not repeated and check all the questions to be conforming the text as well.\n",
    "Make sure to format your response like  RESPONSE_JSON below  and use it as a guide. \\\n",
    "Ensure to make {number} MCQs\n",
    "### RESPONSE_JSON\n",
    "{RESPONSE_JSON}\n",
    "\n",
    "\"\"\""
   ]
  },
  {
   "cell_type": "code",
   "execution_count": 8,
   "metadata": {},
   "outputs": [],
   "source": [
    "quiz_generation_prompt = PromptTemplate(\n",
    "    input_variables=[\"text\", \"number\", \"subject\", \"tone\", \"RESPONSE_JSON\"],\n",
    "    template=TEMPLATE\n",
    "    )"
   ]
  },
  {
   "cell_type": "code",
   "execution_count": 9,
   "metadata": {},
   "outputs": [
    {
     "name": "stderr",
     "output_type": "stream",
     "text": [
      "C:\\Users\\skong\\AppData\\Local\\Temp\\ipykernel_23516\\2669661367.py:1: LangChainDeprecationWarning: The class `LLMChain` was deprecated in LangChain 0.1.17 and will be removed in 1.0. Use RunnableSequence, e.g., `prompt | llm` instead.\n",
      "  quiz_chain=LLMChain(llm=llm, prompt=quiz_generation_prompt, output_key=\"quiz\", verbose=True)\n"
     ]
    }
   ],
   "source": [
    "quiz_chain=LLMChain(llm=llm, prompt=quiz_generation_prompt, output_key=\"quiz\", verbose=True)"
   ]
  },
  {
   "cell_type": "code",
   "execution_count": 10,
   "metadata": {},
   "outputs": [],
   "source": [
    "TEMPLATE2=\"\"\"\n",
    "You are an expert english grammarian and writer. Given a Multiple Choice Quiz for {subject} students.\\\n",
    "You need to evaluate the complexity of the question and give a complete analysis of the quiz. Only use at max 50 words for complexity analysis. \n",
    "if the quiz is not at per with the cognitive and analytical abilities of the students,\\\n",
    "update the quiz questions which needs to be changed and change the tone such that it perfectly fits the student abilities\n",
    "Quiz_MCQs:\n",
    "{quiz}\n",
    "\n",
    "Check from an expert English Writer of the above quiz:\n",
    "\"\"\""
   ]
  },
  {
   "cell_type": "code",
   "execution_count": 11,
   "metadata": {},
   "outputs": [],
   "source": [
    "quiz_evaluation_prompt=PromptTemplate(input_variables=[\"subject\", \"quiz\"], template=TEMPLATE2)"
   ]
  },
  {
   "cell_type": "code",
   "execution_count": 12,
   "metadata": {},
   "outputs": [],
   "source": [
    "review_chain=LLMChain(llm=llm, prompt=quiz_evaluation_prompt, output_key=\"review\", verbose=True)"
   ]
  },
  {
   "cell_type": "code",
   "execution_count": 13,
   "metadata": {},
   "outputs": [],
   "source": [
    "generate_evaluate_chain=SequentialChain(chains=[quiz_chain, review_chain], input_variables=[\"text\", \"number\", \"subject\", \"tone\", \"RESPONSE_JSON\"],\n",
    "                                        output_variables=[\"quiz\", \"review\"], verbose=True,)"
   ]
  },
  {
   "cell_type": "code",
   "execution_count": 14,
   "metadata": {},
   "outputs": [],
   "source": [
    "PATH = \"D:/Lab Setup/MCQ Generator/genAI/data.txt\""
   ]
  },
  {
   "cell_type": "code",
   "execution_count": 15,
   "metadata": {},
   "outputs": [],
   "source": [
    "with open(PATH, 'r') as f:\n",
    "    TEXT = f.read()"
   ]
  },
  {
   "cell_type": "code",
   "execution_count": 16,
   "metadata": {},
   "outputs": [
    {
     "name": "stdout",
     "output_type": "stream",
     "text": [
      "Shivaji: Indian king\n",
      "\n",
      "Shivaji born February 19 1630 or April 1627 Shivner Poona now Pune Indiadied April 3 1680 Raigad was an individual who opposed the Mughal dynasty and founded the Maratha kingdom in 17thcentury India His kingdoms security was based on religious toleration and on the functional integration of Brahmans Marathas and Prabhus\n",
      "\n",
      "Early life and exploits.\n",
      "Shivaji was descended from a line of prominent nobles India at the time of his birth in 1630 was under Muslim rule the Mughals in the north and the Muslim sultans of Bijapur and Golconda in the south All three ruled by right of conquest with no pretense that they had any obligations toward those who they ruled Shivaji whose ancestral estates were situated in the Deccan in the realm of the Bijapur sultans found the Muslim oppression and religious persecution of the Hindus so intolerable that by the time he was 16 he convinced himself that he was the divinely appointed instrument of the cause of Hindu freedoma conviction that was to sustain him throughout his life\n",
      "\n",
      "Collecting a band of followers he began about 1655 to seize the weaker Bijapur outposts In the process he destroyed a few of his influential coreligionists who had aligned themselves with the sultans All the same his daring and military skill combined with his sternness toward the oppressors of the Hindus won him much admiration His depredations grew increasingly audacious and he overcame the minor expeditions sent against him\n",
      "\n",
      "Challenging the Mughals.\n",
      "When the sultan of Bijapur in 1659 sent an army of 20000 under Afzal Khan to defeat him Shivaji pretending to be intimidated enticed the force deep into difficult mountain terrain and then killed Afzal Khan at a meeting to which he had lured him by submissive appeals Meanwhile handpicked troops that had been previously positioned swooped down on the unwary Bijapur army and routed it Overnight Shivaji had become a formidable warlord possessing the horses the guns and the ammunition of the Bijapur army\n",
      "\n",
      "Alarmed by Shivajis rising strength the Mughal emperor Aurangzeb ordered his viceroy of the south to march against him Shivaji countered by carrying out a daring midnight raid right within the viceroys encampment The viceroy lost the fingers of one hand and his son was killed which prompted him to withdraw his force Shivaji as though to provoke the Mughals further sacked the rich coastal town of Surat\n",
      "\n",
      "Aurangzeb could hardly ignore such a challenge and sent out his most prominent general Mirza Raja Jai Singh at the head of a vast army said to number some 100000 men Shivaji was compelled to sue for peace and to agree that he and his son would attend Aurangzebs court at Agra in order to be formally accepted as Mughal vassals In Agra hundreds of miles from their homeland Shivaji and his son were placed under house arrest where they lived under the threat of execution\n",
      "\n",
      "Escape from Agra\n",
      "Undaunted Shivaji feigned illness and as a form of penance began to send out enormous baskets filled with sweets to be distributed among the poor On August 17 1666 he and his son had themselves carried past their guards in these baskets His escape possibly the most thrilling episode in a life filled with high drama was to change the course of Indian history\n",
      "\n",
      "Shivajis followers welcomed him back as their leader and within two years he not only had won back all the lost territory but had expanded his domain He collected tribute from Mughal regions and plundered their rich cities he reorganized the army and instituted reforms for the welfare of his subjects Taking a lesson from the Portuguese and English traders who had already gained toeholds in India Shivaji also began building a naval force he was the first Indian ruler of his time to use his sea power for trade as well as for defense\n",
      "\n",
      "Almost as though prodded by Shivajis meteoric rise Aurangzeb intensified his persecution of Hindus he imposed a poll tax on them condoned forcible conversions and demolished temples erecting mosques in their places\n",
      "\n",
      "Independent sovereign\n",
      "In the summer of 1674 Shivaji had himself enthroned with great fanfare as an independent sovereign His coronation marked the formal beginning of the Maratha empire The suppressed Hindu majority rallied to him as their leader He ruled his domain for six years through a cabinet of eight ministers A devout Hindu who prided himself as the protector of his religion he broke tradition by commanding that two of his relatives who had been forcibly converted to Islam should be taken back into the Hindu fold Even though both Christians and Muslims often imposed their creeds on the populace by force he respected the beliefs and protected the places of worship of both communities Many Muslims were in his service After his coronation his most noteworthy campaign was in the south during which he forged an alliance with the sultans and by doing so prevented the Mughals from spreading their rule over the entire subcontinent\n",
      "Shivaji had several wives and two sons His last years were shadowed by the apostasy of his elder son who at one stage defected to the Mughals and was brought back only with the utmost difficulty The strain of guarding his kingdom from its enemies in the face of bitter domestic strife and discord among his ministers hastened his end The man that British politician and author Thomas Babington Macaulay called the Great Shivaji died after an illness in April 1680 in the mountain stronghold of Raigad which he had made his capital\n",
      "\n",
      "Shivaji breathed new life into a people that for centuries had resigned itself to serfdom and led them against Aurangzeb a powerful Mughal ruler Above all he was one of the few rulers of his time who practiced true religious tolerance\n",
      "\n",
      "Maratha empire\n",
      "Maratha empire early modern Indian empire that rose in the 17th century and dominated much of the Indian subcontinent during the 18th century The Marathas were a Marathispeaking warrior group mostly from what is now the state of Maharashtra in India They became politically active under the leadership of Shivaji their first king in opposition to the Islamic rulers of the time The formal Maratha empire began in 1674 with the coronation of Shivaji as Chhatrapati Keeper of the Umbrella and ended in 1818 after defeat by the English East India Company\n",
      "The 17thcentury politics in the Indian subcontinent were dominated by multiple Islamic kingdoms with the Mughal Empire controlling most of north India The Deccan region of central India had been split among five Deccan sultanates but by the 1630s only three of them remained activeBijapur Golconda and Ahmadnagar Shahaji Bhosale was a Maratha general who served these sultanates\n",
      "\n",
      "Shivaji the son of Shahaji started a campaign to establish Hindavi Svarajya selfrule of Hindu people by revolting against the Bijapur sultanate and capturing many forts in the Deccan region He warred against the Deccan sultanates and the Mughal Empire as well as the newly emergent English East India Company operating in the ports of western India Shivaji conquered his first fort in 1645 and eventually established a stable kingdom with the capital at Raigad with the support of powerful Maratha warrior families Shivajis army was primarily comprised of highly mobile peasant pastoralists For many years while Shivaji remained the titular head of the Maratha empire he was not officially its king as his coronation had not taken place It was only in 1674 that Shivaji was crowned as Chhatrapati\n",
      "\n",
      "Upon his death Shivaji was succeeded on the throne by his son Sambhaji in 1680 Sambhaji was king until 1689 when he was ambushed captured and executed by the Mughal emperor Aurangzeb Aurangzeb also captured Sambhajis son Shahu and Sambhajis halfbrother Rajaram thus ascended the throne\n",
      "\n",
      "Civil war erupted in 1707 after Aurangzebs death when the new Mughal emperor Bahadur Shah I released Shahu Shahu promptly staked his claim to the throne in opposition to Shivaji II Rajarams son who was ruling with the support of his mother Tarabai In 1713 Shahu appointed Balaji Viswanath as his peshwa chief minister This began the peshwa era of the Maratha empire during which all effective power was concentrated in the peshwa Pune called Poona during the British raj in India became the capital of the peshwas Between 1720 and 1761 the Maratha empire expanded rapidly gradually taking over Mughal territory The Marathas took over Malwa and Gujarat in the 1720s and raided Delhi in 1737 At their peak they controlled most of the subcontinent from Rajasthan and Punjab in the north to Bengal and Orissa in the east and Tanjore in the south By 1758 they had expanded up to Peshawar in presentday Pakistan The Maratha king was recognized as the overlord of the Deccan during this period and had the right to levy chauth literally onefourth a 25 percent land revenue tribute from the zamindars landlords This phase during the 1740s and 50s is recognized by heavy tributes levied by the Marathas on local rulers increasing the hostility to Maratha rule\n",
      "\n",
      "In 1761 Ahmad Shah Durrani the founder of the Durrani empire of Afghanistan invaded north India The Maratha army met the Afghan army in the Third Battle of Panipat Because of past animosities many local rulers including the Rajputs did not support the Marathas leading to a heavy Maratha defeat at Panipat The bulk of the Maratha army was destroyed and even though the battle was followed by a peace treaty it severely diminished Maratha power in the subcontinent\n",
      "\n",
      "In the aftermath of the loss at Panipat Madhavrao I became peshwa and helped rebuild the authority of the Marathas in many of their core territories To better manage the Maratha empire he gave autonomy to many of his chieftains leading to the formation of a Maratha confederacy Prominent among these were the Gaekwars of Baroda the Sindhias of Gwalior and the Holkars of Indore who all went on to form independent kingdoms after the end of the Maratha empire But the death of Madhavrao in 1772 created a power vacuum at the centre of the empire Henceforward the Maratha chieftains would wield power the peshwa retaining only titular control\n",
      "\n",
      "The later Maratha years were characterized by wars with the kingdom of Mysore and with the East India Company The First AngloMaratha War ran from 1775 to 1782 and ended with a Maratha victory The First MarathaMysore War lasted from 1785 to 1787 and led to animosity with Tippu Sultan the de facto ruler of Mysore The Marathas then aided the British in the last two of four AngloMysore wars helping turn the tide against Mysore and leading to a British victory in 1799 British interventions in the Maratha chieftains affairs led to the Second AngloMaratha War from 1803 to 1805 causing significant loss of territory for the Marathas The Marathas were the last major force opposing the British in the subcontinent and this came to an end in 1818 with Maratha defeat in the Third AngloMaratha War followed by the exile of the peshwa Bajirao II and Maratha territory coming under direct British rule Some territories such as Baroda and Indore retained titular independence as princely states under the British\n",
      "\n",
      "The Maratha empire was noted for developing an efficient administration system with strong encouragement for agriculture and trade It was also noted for building a strong navy under Kanhoji Angre and a series of forts on the western coast of India In the wake of the Indian independence movement the Maratha empire and especially Shivaji received a lot of focus with Indian nationalists defining the Marathas as heroes of Hindu nationalism against Mughal tyranny The Marathas perfected the art of guerrilla warfare and used it effectively against the Mughals The restoration of several temples such as the Saptakoteshwar Temple in Goa has been cited as evidence of the Marathas fight for Hindu freedom\n",
      "\n",
      "Mughal dynasty India 15261857\n",
      "Mughal dynasty Muslim dynasty of TurkicMongol origin that ruled most of northern India from the early 16th to the mid18th century After that time it continued to exist as a considerably reduced and increasingly powerless entity until the mid19th century The Mughal dynasty was notable for its more than two centuries of effective rule over much of India for the ability of its rulers who through seven generations maintained a record of unusual talent and for its administrative organization A further distinction was the attempt of the Mughals who were Muslims to integrate Hindus and Muslims into a united Indian state\n",
      "\n",
      "Bbur and the establishment of the Mughals\n",
      "The dynasty was founded by a Chagatai Turkic prince named Bbur reigned 152630 who was descended from the Turkic conqueror Timur Tamerlane on his fathers side and from Chagatai second son of the Mongol ruler Genghis Khan on his mothers side Bburs father Umar Shaykh Mrz ruled the small principality of Fergana to the north of the Hindu Kush mountain range Bbur inherited the principality at a young age in 1494\n",
      "\n",
      "In 1504 he conquered Kabul and Ghazn and established himself there In 1511 he captured Samarkand only to realize that with the formidable Safavid dynasty in Iran and the Uzbeks in Central Asia he should rather turn to the southeast toward India to have an empire of his own As a Timurid Bbur had an eye on the Punjab part of which had been Timurs possession He made several excursions in the tribal habitats there Between 1519 and 1524when he invaded Bhera Sialkot and Lahorehe showed his definite intention to conquer Hindustan where the political scene favoured his adventure\n",
      "\n",
      "Having secured the Punjab Bbur advanced toward Delhi garnering support from many Delhi nobles He routed two advance troop contingents of Ibrhm Lod Delhis sultan and met the sultans main army at the First Battle of Panipat By April 1526 he was in control of Delhi and Agra and held the keys to conquer Hindustan\n",
      "\n",
      "The Rajput confederacy however under Rana Sanga of Mewar threatened to revive their power in northern India Bbur led an expedition against the rana and crushed the ranas forces at Khanua near Fatehpur Sikri March 1527 once again by means of the skillful positioning of troops Bbur then continued his campaigns to subjugate the Rajputs of Chanderi When Afghan risings turned him to the east he had to fight among others the joint forces of the Afghans and the sultan of Bengal in 1529 at Ghaghara near Varanasi Bbur won the battles but the expedition there too like the one on the southern borders was left unfinished Developments in Central Asia and Bburs failing health forced him to withdraw He died near Lahore in December 1530\n",
      "\n",
      "Humyn\n",
      "Bburs son Humyn inherited the hope rather than the fact of empire because the Afghans and Rajputs were merely restrained but not reconciled to Mughal supremacy by the Mughal victories at Panipat 1526 Khanua 1527 and the Ghaghara 1529 Bahdur Shah of Gujarat encouraged by Afghan and Mughal migrs challenged the Mughals in Rajasthan and although Humyn occupied Gujarat in 1535 the danger there ended only with Bahdurs death in 1537 Meanwhile an Afghan soldier of fortune Shr Shah of Sr had consolidated his power in Bihar and Bengal He defeated Humyn at Chausa in 1539 and at Kannauj in 1540 expelling him from India\n",
      "Reaching Iran in 1544 Humyn was granted military aid by Shah ahmsp and went on to conquer Kandahr 1545 and to seize Kabul three times from his own disloyal brother Kmrn the final time being in 1550 Taking advantage of civil wars among the descendants of Shr Shah Humyn captured Lahore in February 1555 and after defeating Sikandar Sr the rebel Afghan governor of the Punjab at Sirhind he recovered Delhi and Agra that July Humyn was fatally injured by falling down the staircase of his library His tomb in Delhi built several years after his death is the first of the great Mughal architectural masterpieces it was designated a UNESCO World Heritage site in 1993\n",
      "\n",
      "Akbar the Great and the consolidation of the empire\n",
      "Within a few months of Humyns death his governors lost several important cities and regions including Delhi itself to Hemu a Hindu minister who had claimed the throne for himself Humyns son Akbar reigned 15561605 under the guidance of the regent Bayram Khan defeated Hemu at the Second Battle of Panipat 1556 which commanded the route to Delhi and thereby turned the tide in Hindustan to the Mughal dynastys favour\n",
      "Although Akbar inherited an empire in shambles he proved an extremely capable ruler His expansion and absorption of vast territories established an empire across northern and parts of central India at his death in 1605 the empire extended from Afghanistan to the Bay of Bengal and southward to what is now Gujarat state and the northern Deccan region peninsular India The political administrative and military structures that he created to govern the empire were the chief factor behind its continued survival for another century and a half\n",
      "\n",
      "One of the notable features of Akbars government was the extent of Hindu and particularly Rajput participation Rajput princes attained the highest ranks as generals and as provincial governors in the Mughal service Discrimination against nonMuslims was reduced by abolishing the taxation of pilgrims and the tax payable by nonMuslims jizyah in lieu of military service Yet Akbar was far more successful than any previous Muslim ruler in winning the cooperation of Hindus at all levels in his administration The further expansion of his territories gave them fresh opportunities\n",
      "\n",
      "The incorporation of the zealously independent Hindu Rajputs inhabiting the rugged hilly Rajputana region came about through a policy of conciliation and conquest When in 1562 Raja Bihari Mal of Amber now Jaipur threatened by a succession dispute offered Akbar his daughter in marriage Akbar accepted the offer The raja acknowledged Akbars suzerainty and his sons prospered in Akbars service Akbar followed the same feudal policy toward the other Rajput chiefs They were allowed to hold their ancestral territories provided that they acknowledged Akbar as emperor paid tribute supplied troops when required and concluded a marriage alliance with him The emperors service was also opened to them and their sons which offered financial rewards as well as honour However Akbar showed no mercy to those who refused to acknowledge his supremacy after protracted fighting in Mewar Akbar captured the historic fortress of Chitor now Chittaurgarh in 1568 and massacred its inhabitants\n",
      "\n",
      "Meanwhile Akbar needed a way to maintain his status as a Muslim ruler while eliciting active support from his now predominantly nonMuslim subjects In addition to annulling the jizyah he abolished the practice of forcibly converting prisoners of war to Islam and encouraged Hindus as his principal confidants and policy makers To legitimize his nonsectarian policies he issued in 1579 a public edict maar declaring his right to be the supreme arbiter in Muslim religious mattersabove the body of Muslim religious scholars and jurists whom Akbar had come to consider as shallow He had by then also undertaken a number of stern measures to reform the administration of religious grants which were now available to learned and pious men of all religions including Hindu pandits Jain and Christian missionaries and Parsi priests The emperor created a new order commonly called the Dne Ilh Divine Faith which was modeled on the Muslim mystical Sufi brotherhood but was devised with the object of forging the diverse groups in the service of the state into one cohesive political community\n",
      "\n",
      "Other notable features of Akbars government included the streamlining of both military and civil administration He consolidated military ranks into a standard system under his authority and regular checks on rank holders manabdrs ensured a reasonable correlation between their obligations and their income He also seems to have instituted more efficient revenue assessment and collection in an effort to safeguard the peasants from excessive demands and the state from loss of money\n",
      "\n",
      "Toward the end of his reign Akbar embarked on a fresh round of conquests The Kashmir region was subjugated in 1586 Sindh in 1591 and Kandahr Afghanistan in 1595 Mughal troops now moved south of the Vindhya Range into the Deccan By 1601 Khandesh Berar and part of Ahmadnagar had been added to Akbars empire His last years were troubled by the rebellious behaviour of his son Prince Salm later the emperor Jahngr who was eager for power\n",
      "\n",
      "\n",
      "\n"
     ]
    }
   ],
   "source": [
    "print(TEXT)"
   ]
  },
  {
   "cell_type": "code",
   "execution_count": 17,
   "metadata": {},
   "outputs": [
    {
     "data": {
      "text/plain": [
       "'{\"1\": {\"mcq\": \"multiple choice question\", \"options\": {\"a\": \"choice here\", \"b\": \"choice here\", \"c\": \"choice here\", \"d\": \"choice here\"}, \"correct\": \"correct answer\"}, \"2\": {\"mcq\": \"multiple choice question\", \"options\": {\"a\": \"choice here\", \"b\": \"choice here\", \"c\": \"choice here\", \"d\": \"choice here\"}, \"correct\": \"correct answer\"}, \"3\": {\"mcq\": \"multiple choice question\", \"options\": {\"a\": \"choice here\", \"b\": \"choice here\", \"c\": \"choice here\", \"d\": \"choice here\"}, \"correct\": \"correct answer\"}}'"
      ]
     },
     "execution_count": 17,
     "metadata": {},
     "output_type": "execute_result"
    }
   ],
   "source": [
    "# Serialize the Python dictionary into a JSON-formatted string\n",
    "json.dumps(RESPONSE_JSON)"
   ]
  },
  {
   "cell_type": "code",
   "execution_count": 18,
   "metadata": {},
   "outputs": [],
   "source": [
    "NUMBER=5\n",
    "SUBJECT=\"History\"\n",
    "TONE=\"simple\""
   ]
  },
  {
   "cell_type": "code",
   "execution_count": 19,
   "metadata": {},
   "outputs": [
    {
     "name": "stderr",
     "output_type": "stream",
     "text": [
      "C:\\Users\\skong\\AppData\\Local\\Temp\\ipykernel_23516\\685591478.py:5: LangChainDeprecationWarning: The method `Chain.__call__` was deprecated in langchain 0.1.0 and will be removed in 1.0. Use invoke instead.\n",
      "  response=generate_evaluate_chain(\n",
      "Error in StdOutCallbackHandler.on_chain_start callback: AttributeError(\"'NoneType' object has no attribute 'get'\")\n",
      "Error in StdOutCallbackHandler.on_chain_start callback: AttributeError(\"'NoneType' object has no attribute 'get'\")\n"
     ]
    },
    {
     "name": "stdout",
     "output_type": "stream",
     "text": [
      "Prompt after formatting:\n",
      "\u001b[32;1m\u001b[1;3m\n",
      "Text:Shivaji: Indian king\n",
      "\n",
      "Shivaji born February 19 1630 or April 1627 Shivner Poona now Pune Indiadied April 3 1680 Raigad was an individual who opposed the Mughal dynasty and founded the Maratha kingdom in 17thcentury India His kingdoms security was based on religious toleration and on the functional integration of Brahmans Marathas and Prabhus\n",
      "\n",
      "Early life and exploits.\n",
      "Shivaji was descended from a line of prominent nobles India at the time of his birth in 1630 was under Muslim rule the Mughals in the north and the Muslim sultans of Bijapur and Golconda in the south All three ruled by right of conquest with no pretense that they had any obligations toward those who they ruled Shivaji whose ancestral estates were situated in the Deccan in the realm of the Bijapur sultans found the Muslim oppression and religious persecution of the Hindus so intolerable that by the time he was 16 he convinced himself that he was the divinely appointed instrument of the cause of Hindu freedoma conviction that was to sustain him throughout his life\n",
      "\n",
      "Collecting a band of followers he began about 1655 to seize the weaker Bijapur outposts In the process he destroyed a few of his influential coreligionists who had aligned themselves with the sultans All the same his daring and military skill combined with his sternness toward the oppressors of the Hindus won him much admiration His depredations grew increasingly audacious and he overcame the minor expeditions sent against him\n",
      "\n",
      "Challenging the Mughals.\n",
      "When the sultan of Bijapur in 1659 sent an army of 20000 under Afzal Khan to defeat him Shivaji pretending to be intimidated enticed the force deep into difficult mountain terrain and then killed Afzal Khan at a meeting to which he had lured him by submissive appeals Meanwhile handpicked troops that had been previously positioned swooped down on the unwary Bijapur army and routed it Overnight Shivaji had become a formidable warlord possessing the horses the guns and the ammunition of the Bijapur army\n",
      "\n",
      "Alarmed by Shivajis rising strength the Mughal emperor Aurangzeb ordered his viceroy of the south to march against him Shivaji countered by carrying out a daring midnight raid right within the viceroys encampment The viceroy lost the fingers of one hand and his son was killed which prompted him to withdraw his force Shivaji as though to provoke the Mughals further sacked the rich coastal town of Surat\n",
      "\n",
      "Aurangzeb could hardly ignore such a challenge and sent out his most prominent general Mirza Raja Jai Singh at the head of a vast army said to number some 100000 men Shivaji was compelled to sue for peace and to agree that he and his son would attend Aurangzebs court at Agra in order to be formally accepted as Mughal vassals In Agra hundreds of miles from their homeland Shivaji and his son were placed under house arrest where they lived under the threat of execution\n",
      "\n",
      "Escape from Agra\n",
      "Undaunted Shivaji feigned illness and as a form of penance began to send out enormous baskets filled with sweets to be distributed among the poor On August 17 1666 he and his son had themselves carried past their guards in these baskets His escape possibly the most thrilling episode in a life filled with high drama was to change the course of Indian history\n",
      "\n",
      "Shivajis followers welcomed him back as their leader and within two years he not only had won back all the lost territory but had expanded his domain He collected tribute from Mughal regions and plundered their rich cities he reorganized the army and instituted reforms for the welfare of his subjects Taking a lesson from the Portuguese and English traders who had already gained toeholds in India Shivaji also began building a naval force he was the first Indian ruler of his time to use his sea power for trade as well as for defense\n",
      "\n",
      "Almost as though prodded by Shivajis meteoric rise Aurangzeb intensified his persecution of Hindus he imposed a poll tax on them condoned forcible conversions and demolished temples erecting mosques in their places\n",
      "\n",
      "Independent sovereign\n",
      "In the summer of 1674 Shivaji had himself enthroned with great fanfare as an independent sovereign His coronation marked the formal beginning of the Maratha empire The suppressed Hindu majority rallied to him as their leader He ruled his domain for six years through a cabinet of eight ministers A devout Hindu who prided himself as the protector of his religion he broke tradition by commanding that two of his relatives who had been forcibly converted to Islam should be taken back into the Hindu fold Even though both Christians and Muslims often imposed their creeds on the populace by force he respected the beliefs and protected the places of worship of both communities Many Muslims were in his service After his coronation his most noteworthy campaign was in the south during which he forged an alliance with the sultans and by doing so prevented the Mughals from spreading their rule over the entire subcontinent\n",
      "Shivaji had several wives and two sons His last years were shadowed by the apostasy of his elder son who at one stage defected to the Mughals and was brought back only with the utmost difficulty The strain of guarding his kingdom from its enemies in the face of bitter domestic strife and discord among his ministers hastened his end The man that British politician and author Thomas Babington Macaulay called the Great Shivaji died after an illness in April 1680 in the mountain stronghold of Raigad which he had made his capital\n",
      "\n",
      "Shivaji breathed new life into a people that for centuries had resigned itself to serfdom and led them against Aurangzeb a powerful Mughal ruler Above all he was one of the few rulers of his time who practiced true religious tolerance\n",
      "\n",
      "Maratha empire\n",
      "Maratha empire early modern Indian empire that rose in the 17th century and dominated much of the Indian subcontinent during the 18th century The Marathas were a Marathispeaking warrior group mostly from what is now the state of Maharashtra in India They became politically active under the leadership of Shivaji their first king in opposition to the Islamic rulers of the time The formal Maratha empire began in 1674 with the coronation of Shivaji as Chhatrapati Keeper of the Umbrella and ended in 1818 after defeat by the English East India Company\n",
      "The 17thcentury politics in the Indian subcontinent were dominated by multiple Islamic kingdoms with the Mughal Empire controlling most of north India The Deccan region of central India had been split among five Deccan sultanates but by the 1630s only three of them remained activeBijapur Golconda and Ahmadnagar Shahaji Bhosale was a Maratha general who served these sultanates\n",
      "\n",
      "Shivaji the son of Shahaji started a campaign to establish Hindavi Svarajya selfrule of Hindu people by revolting against the Bijapur sultanate and capturing many forts in the Deccan region He warred against the Deccan sultanates and the Mughal Empire as well as the newly emergent English East India Company operating in the ports of western India Shivaji conquered his first fort in 1645 and eventually established a stable kingdom with the capital at Raigad with the support of powerful Maratha warrior families Shivajis army was primarily comprised of highly mobile peasant pastoralists For many years while Shivaji remained the titular head of the Maratha empire he was not officially its king as his coronation had not taken place It was only in 1674 that Shivaji was crowned as Chhatrapati\n",
      "\n",
      "Upon his death Shivaji was succeeded on the throne by his son Sambhaji in 1680 Sambhaji was king until 1689 when he was ambushed captured and executed by the Mughal emperor Aurangzeb Aurangzeb also captured Sambhajis son Shahu and Sambhajis halfbrother Rajaram thus ascended the throne\n",
      "\n",
      "Civil war erupted in 1707 after Aurangzebs death when the new Mughal emperor Bahadur Shah I released Shahu Shahu promptly staked his claim to the throne in opposition to Shivaji II Rajarams son who was ruling with the support of his mother Tarabai In 1713 Shahu appointed Balaji Viswanath as his peshwa chief minister This began the peshwa era of the Maratha empire during which all effective power was concentrated in the peshwa Pune called Poona during the British raj in India became the capital of the peshwas Between 1720 and 1761 the Maratha empire expanded rapidly gradually taking over Mughal territory The Marathas took over Malwa and Gujarat in the 1720s and raided Delhi in 1737 At their peak they controlled most of the subcontinent from Rajasthan and Punjab in the north to Bengal and Orissa in the east and Tanjore in the south By 1758 they had expanded up to Peshawar in presentday Pakistan The Maratha king was recognized as the overlord of the Deccan during this period and had the right to levy chauth literally onefourth a 25 percent land revenue tribute from the zamindars landlords This phase during the 1740s and 50s is recognized by heavy tributes levied by the Marathas on local rulers increasing the hostility to Maratha rule\n",
      "\n",
      "In 1761 Ahmad Shah Durrani the founder of the Durrani empire of Afghanistan invaded north India The Maratha army met the Afghan army in the Third Battle of Panipat Because of past animosities many local rulers including the Rajputs did not support the Marathas leading to a heavy Maratha defeat at Panipat The bulk of the Maratha army was destroyed and even though the battle was followed by a peace treaty it severely diminished Maratha power in the subcontinent\n",
      "\n",
      "In the aftermath of the loss at Panipat Madhavrao I became peshwa and helped rebuild the authority of the Marathas in many of their core territories To better manage the Maratha empire he gave autonomy to many of his chieftains leading to the formation of a Maratha confederacy Prominent among these were the Gaekwars of Baroda the Sindhias of Gwalior and the Holkars of Indore who all went on to form independent kingdoms after the end of the Maratha empire But the death of Madhavrao in 1772 created a power vacuum at the centre of the empire Henceforward the Maratha chieftains would wield power the peshwa retaining only titular control\n",
      "\n",
      "The later Maratha years were characterized by wars with the kingdom of Mysore and with the East India Company The First AngloMaratha War ran from 1775 to 1782 and ended with a Maratha victory The First MarathaMysore War lasted from 1785 to 1787 and led to animosity with Tippu Sultan the de facto ruler of Mysore The Marathas then aided the British in the last two of four AngloMysore wars helping turn the tide against Mysore and leading to a British victory in 1799 British interventions in the Maratha chieftains affairs led to the Second AngloMaratha War from 1803 to 1805 causing significant loss of territory for the Marathas The Marathas were the last major force opposing the British in the subcontinent and this came to an end in 1818 with Maratha defeat in the Third AngloMaratha War followed by the exile of the peshwa Bajirao II and Maratha territory coming under direct British rule Some territories such as Baroda and Indore retained titular independence as princely states under the British\n",
      "\n",
      "The Maratha empire was noted for developing an efficient administration system with strong encouragement for agriculture and trade It was also noted for building a strong navy under Kanhoji Angre and a series of forts on the western coast of India In the wake of the Indian independence movement the Maratha empire and especially Shivaji received a lot of focus with Indian nationalists defining the Marathas as heroes of Hindu nationalism against Mughal tyranny The Marathas perfected the art of guerrilla warfare and used it effectively against the Mughals The restoration of several temples such as the Saptakoteshwar Temple in Goa has been cited as evidence of the Marathas fight for Hindu freedom\n",
      "\n",
      "Mughal dynasty India 15261857\n",
      "Mughal dynasty Muslim dynasty of TurkicMongol origin that ruled most of northern India from the early 16th to the mid18th century After that time it continued to exist as a considerably reduced and increasingly powerless entity until the mid19th century The Mughal dynasty was notable for its more than two centuries of effective rule over much of India for the ability of its rulers who through seven generations maintained a record of unusual talent and for its administrative organization A further distinction was the attempt of the Mughals who were Muslims to integrate Hindus and Muslims into a united Indian state\n",
      "\n",
      "Bbur and the establishment of the Mughals\n",
      "The dynasty was founded by a Chagatai Turkic prince named Bbur reigned 152630 who was descended from the Turkic conqueror Timur Tamerlane on his fathers side and from Chagatai second son of the Mongol ruler Genghis Khan on his mothers side Bburs father Umar Shaykh Mrz ruled the small principality of Fergana to the north of the Hindu Kush mountain range Bbur inherited the principality at a young age in 1494\n",
      "\n",
      "In 1504 he conquered Kabul and Ghazn and established himself there In 1511 he captured Samarkand only to realize that with the formidable Safavid dynasty in Iran and the Uzbeks in Central Asia he should rather turn to the southeast toward India to have an empire of his own As a Timurid Bbur had an eye on the Punjab part of which had been Timurs possession He made several excursions in the tribal habitats there Between 1519 and 1524when he invaded Bhera Sialkot and Lahorehe showed his definite intention to conquer Hindustan where the political scene favoured his adventure\n",
      "\n",
      "Having secured the Punjab Bbur advanced toward Delhi garnering support from many Delhi nobles He routed two advance troop contingents of Ibrhm Lod Delhis sultan and met the sultans main army at the First Battle of Panipat By April 1526 he was in control of Delhi and Agra and held the keys to conquer Hindustan\n",
      "\n",
      "The Rajput confederacy however under Rana Sanga of Mewar threatened to revive their power in northern India Bbur led an expedition against the rana and crushed the ranas forces at Khanua near Fatehpur Sikri March 1527 once again by means of the skillful positioning of troops Bbur then continued his campaigns to subjugate the Rajputs of Chanderi When Afghan risings turned him to the east he had to fight among others the joint forces of the Afghans and the sultan of Bengal in 1529 at Ghaghara near Varanasi Bbur won the battles but the expedition there too like the one on the southern borders was left unfinished Developments in Central Asia and Bburs failing health forced him to withdraw He died near Lahore in December 1530\n",
      "\n",
      "Humyn\n",
      "Bburs son Humyn inherited the hope rather than the fact of empire because the Afghans and Rajputs were merely restrained but not reconciled to Mughal supremacy by the Mughal victories at Panipat 1526 Khanua 1527 and the Ghaghara 1529 Bahdur Shah of Gujarat encouraged by Afghan and Mughal migrs challenged the Mughals in Rajasthan and although Humyn occupied Gujarat in 1535 the danger there ended only with Bahdurs death in 1537 Meanwhile an Afghan soldier of fortune Shr Shah of Sr had consolidated his power in Bihar and Bengal He defeated Humyn at Chausa in 1539 and at Kannauj in 1540 expelling him from India\n",
      "Reaching Iran in 1544 Humyn was granted military aid by Shah ahmsp and went on to conquer Kandahr 1545 and to seize Kabul three times from his own disloyal brother Kmrn the final time being in 1550 Taking advantage of civil wars among the descendants of Shr Shah Humyn captured Lahore in February 1555 and after defeating Sikandar Sr the rebel Afghan governor of the Punjab at Sirhind he recovered Delhi and Agra that July Humyn was fatally injured by falling down the staircase of his library His tomb in Delhi built several years after his death is the first of the great Mughal architectural masterpieces it was designated a UNESCO World Heritage site in 1993\n",
      "\n",
      "Akbar the Great and the consolidation of the empire\n",
      "Within a few months of Humyns death his governors lost several important cities and regions including Delhi itself to Hemu a Hindu minister who had claimed the throne for himself Humyns son Akbar reigned 15561605 under the guidance of the regent Bayram Khan defeated Hemu at the Second Battle of Panipat 1556 which commanded the route to Delhi and thereby turned the tide in Hindustan to the Mughal dynastys favour\n",
      "Although Akbar inherited an empire in shambles he proved an extremely capable ruler His expansion and absorption of vast territories established an empire across northern and parts of central India at his death in 1605 the empire extended from Afghanistan to the Bay of Bengal and southward to what is now Gujarat state and the northern Deccan region peninsular India The political administrative and military structures that he created to govern the empire were the chief factor behind its continued survival for another century and a half\n",
      "\n",
      "One of the notable features of Akbars government was the extent of Hindu and particularly Rajput participation Rajput princes attained the highest ranks as generals and as provincial governors in the Mughal service Discrimination against nonMuslims was reduced by abolishing the taxation of pilgrims and the tax payable by nonMuslims jizyah in lieu of military service Yet Akbar was far more successful than any previous Muslim ruler in winning the cooperation of Hindus at all levels in his administration The further expansion of his territories gave them fresh opportunities\n",
      "\n",
      "The incorporation of the zealously independent Hindu Rajputs inhabiting the rugged hilly Rajputana region came about through a policy of conciliation and conquest When in 1562 Raja Bihari Mal of Amber now Jaipur threatened by a succession dispute offered Akbar his daughter in marriage Akbar accepted the offer The raja acknowledged Akbars suzerainty and his sons prospered in Akbars service Akbar followed the same feudal policy toward the other Rajput chiefs They were allowed to hold their ancestral territories provided that they acknowledged Akbar as emperor paid tribute supplied troops when required and concluded a marriage alliance with him The emperors service was also opened to them and their sons which offered financial rewards as well as honour However Akbar showed no mercy to those who refused to acknowledge his supremacy after protracted fighting in Mewar Akbar captured the historic fortress of Chitor now Chittaurgarh in 1568 and massacred its inhabitants\n",
      "\n",
      "Meanwhile Akbar needed a way to maintain his status as a Muslim ruler while eliciting active support from his now predominantly nonMuslim subjects In addition to annulling the jizyah he abolished the practice of forcibly converting prisoners of war to Islam and encouraged Hindus as his principal confidants and policy makers To legitimize his nonsectarian policies he issued in 1579 a public edict maar declaring his right to be the supreme arbiter in Muslim religious mattersabove the body of Muslim religious scholars and jurists whom Akbar had come to consider as shallow He had by then also undertaken a number of stern measures to reform the administration of religious grants which were now available to learned and pious men of all religions including Hindu pandits Jain and Christian missionaries and Parsi priests The emperor created a new order commonly called the Dne Ilh Divine Faith which was modeled on the Muslim mystical Sufi brotherhood but was devised with the object of forging the diverse groups in the service of the state into one cohesive political community\n",
      "\n",
      "Other notable features of Akbars government included the streamlining of both military and civil administration He consolidated military ranks into a standard system under his authority and regular checks on rank holders manabdrs ensured a reasonable correlation between their obligations and their income He also seems to have instituted more efficient revenue assessment and collection in an effort to safeguard the peasants from excessive demands and the state from loss of money\n",
      "\n",
      "Toward the end of his reign Akbar embarked on a fresh round of conquests The Kashmir region was subjugated in 1586 Sindh in 1591 and Kandahr Afghanistan in 1595 Mughal troops now moved south of the Vindhya Range into the Deccan By 1601 Khandesh Berar and part of Ahmadnagar had been added to Akbars empire His last years were troubled by the rebellious behaviour of his son Prince Salm later the emperor Jahngr who was eager for power\n",
      "\n",
      "\n",
      "\n",
      "You are an expert MCQ maker. Given the above text, it is your job to create a quiz  of 5 multiple choice questions for History students in simple tone. \n",
      "Make sure the questions are not repeated and check all the questions to be conforming the text as well.\n",
      "Make sure to format your response like  RESPONSE_JSON below  and use it as a guide. Ensure to make 5 MCQs\n",
      "### RESPONSE_JSON\n",
      "{\"1\": {\"mcq\": \"multiple choice question\", \"options\": {\"a\": \"choice here\", \"b\": \"choice here\", \"c\": \"choice here\", \"d\": \"choice here\"}, \"correct\": \"correct answer\"}, \"2\": {\"mcq\": \"multiple choice question\", \"options\": {\"a\": \"choice here\", \"b\": \"choice here\", \"c\": \"choice here\", \"d\": \"choice here\"}, \"correct\": \"correct answer\"}, \"3\": {\"mcq\": \"multiple choice question\", \"options\": {\"a\": \"choice here\", \"b\": \"choice here\", \"c\": \"choice here\", \"d\": \"choice here\"}, \"correct\": \"correct answer\"}}\n",
      "\n",
      "\u001b[0m\n"
     ]
    },
    {
     "name": "stderr",
     "output_type": "stream",
     "text": [
      "Error in StdOutCallbackHandler.on_chain_start callback: AttributeError(\"'NoneType' object has no attribute 'get'\")\n"
     ]
    },
    {
     "name": "stdout",
     "output_type": "stream",
     "text": [
      "\n",
      "\u001b[1m> Finished chain.\u001b[0m\n",
      "Prompt after formatting:\n",
      "\u001b[32;1m\u001b[1;3m\n",
      "You are an expert english grammarian and writer. Given a Multiple Choice Quiz for History students.You need to evaluate the complexity of the question and give a complete analysis of the quiz. Only use at max 50 words for complexity analysis. \n",
      "if the quiz is not at per with the cognitive and analytical abilities of the students,update the quiz questions which needs to be changed and change the tone such that it perfectly fits the student abilities\n",
      "Quiz_MCQs:\n",
      "{\n",
      "    \"1\": {\n",
      "        \"mcq\": \"Who founded the Maratha kingdom in 17th century India?\",\n",
      "        \"options\": {\n",
      "            \"a\": \"Akbar\",\n",
      "            \"b\": \"Shivaji\",\n",
      "            \"c\": \"Aurangzeb\",\n",
      "            \"d\": \"Humayun\"\n",
      "        },\n",
      "        \"correct\": \"b\"\n",
      "    },\n",
      "    \"2\": {\n",
      "        \"mcq\": \"Which battle turned the tide in favor of the Mughal dynasty in Hindustan?\",\n",
      "        \"options\": {\n",
      "            \"a\": \"First Battle of Panipat\",\n",
      "            \"b\": \"Second Battle of Panipat\",\n",
      "            \"c\": \"Battle of Khanua\",\n",
      "            \"d\": \"Battle of Ghaghara\"\n",
      "        },\n",
      "        \"correct\": \"b\"\n",
      "    },\n",
      "    \"3\": {\n",
      "        \"mcq\": \"Which Mughal emperor is known for his policy of conciliation and conquest towards the Rajputs?\",\n",
      "        \"options\": {\n",
      "            \"a\": \"Akbar\",\n",
      "            \"b\": \"Shah Jahan\",\n",
      "            \"c\": \"Jahangir\",\n",
      "            \"d\": \"Babur\"\n",
      "        },\n",
      "        \"correct\": \"a\"\n",
      "    },\n",
      "    \"4\": {\n",
      "        \"mcq\": \"In which year did Shivaji have himself enthroned as an independent sovereign?\",\n",
      "        \"options\": {\n",
      "            \"a\": \"1650\",\n",
      "            \"b\": \"1674\",\n",
      "            \"c\": \"1680\",\n",
      "            \"d\": \"1700\"\n",
      "        },\n",
      "        \"correct\": \"b\"\n",
      "    },\n",
      "    \"5\": {\n",
      "        \"mcq\": \"Which Afghan ruler defeated Humayun and expelled him from India?\",\n",
      "        \"options\": {\n",
      "            \"a\": \"Shah Jahan\",\n",
      "            \"b\": \"Shah Alam\",\n",
      "            \"c\": \"Sher Shah Suri\",\n",
      "            \"d\": \"Bahadur Shah\"\n",
      "        },\n",
      "        \"correct\": \"c\"\n",
      "    }\n",
      "}\n",
      "\n",
      "Check from an expert English Writer of the above quiz:\n",
      "\u001b[0m\n",
      "\n",
      "\u001b[1m> Finished chain.\u001b[0m\n",
      "\n",
      "\u001b[1m> Finished chain.\u001b[0m\n"
     ]
    }
   ],
   "source": [
    "#https://python.langchain.com/docs/modules/model_io/llms/token_usage_tracking\n",
    "\n",
    "#How to setup Token Usage Tracking in LangChain\n",
    "with get_openai_callback() as cb:\n",
    "    response=generate_evaluate_chain(\n",
    "        {\n",
    "            \"text\": TEXT,\n",
    "            \"number\": NUMBER,\n",
    "            \"subject\":SUBJECT,\n",
    "            \"tone\": TONE,\n",
    "            \"RESPONSE_JSON\": json.dumps(RESPONSE_JSON)\n",
    "        }\n",
    "    )"
   ]
  },
  {
   "cell_type": "code",
   "execution_count": 20,
   "metadata": {},
   "outputs": [
    {
     "name": "stdout",
     "output_type": "stream",
     "text": [
      "Total Tokens:5595\n",
      "Prompt Tokens:5140\n",
      "Completion Tokens:455\n",
      "Total Cost:0.00862\n"
     ]
    }
   ],
   "source": [
    "print(f\"Total Tokens:{cb.total_tokens}\")\n",
    "print(f\"Prompt Tokens:{cb.prompt_tokens}\")\n",
    "print(f\"Completion Tokens:{cb.completion_tokens}\")\n",
    "print(f\"Total Cost:{cb.total_cost}\")"
   ]
  },
  {
   "cell_type": "code",
   "execution_count": 21,
   "metadata": {},
   "outputs": [
    {
     "data": {
      "text/plain": [
       "{'text': 'Shivaji: Indian king\\n\\nShivaji born February 19 1630 or April 1627 Shivner Poona now Pune Indiadied April 3 1680 Raigad was an individual who opposed the Mughal dynasty and founded the Maratha kingdom in 17thcentury India His kingdoms security was based on religious toleration and on the functional integration of Brahmans Marathas and Prabhus\\n\\nEarly life and exploits.\\nShivaji was descended from a line of prominent nobles India at the time of his birth in 1630 was under Muslim rule the Mughals in the north and the Muslim sultans of Bijapur and Golconda in the south All three ruled by right of conquest with no pretense that they had any obligations toward those who they ruled Shivaji whose ancestral estates were situated in the Deccan in the realm of the Bijapur sultans found the Muslim oppression and religious persecution of the Hindus so intolerable that by the time he was 16 he convinced himself that he was the divinely appointed instrument of the cause of Hindu freedoma conviction that was to sustain him throughout his life\\n\\nCollecting a band of followers he began about 1655 to seize the weaker Bijapur outposts In the process he destroyed a few of his influential coreligionists who had aligned themselves with the sultans All the same his daring and military skill combined with his sternness toward the oppressors of the Hindus won him much admiration His depredations grew increasingly audacious and he overcame the minor expeditions sent against him\\n\\nChallenging the Mughals.\\nWhen the sultan of Bijapur in 1659 sent an army of 20000 under Afzal Khan to defeat him Shivaji pretending to be intimidated enticed the force deep into difficult mountain terrain and then killed Afzal Khan at a meeting to which he had lured him by submissive appeals Meanwhile handpicked troops that had been previously positioned swooped down on the unwary Bijapur army and routed it Overnight Shivaji had become a formidable warlord possessing the horses the guns and the ammunition of the Bijapur army\\n\\nAlarmed by Shivajis rising strength the Mughal emperor Aurangzeb ordered his viceroy of the south to march against him Shivaji countered by carrying out a daring midnight raid right within the viceroys encampment The viceroy lost the fingers of one hand and his son was killed which prompted him to withdraw his force Shivaji as though to provoke the Mughals further sacked the rich coastal town of Surat\\n\\nAurangzeb could hardly ignore such a challenge and sent out his most prominent general Mirza Raja Jai Singh at the head of a vast army said to number some 100000 men Shivaji was compelled to sue for peace and to agree that he and his son would attend Aurangzebs court at Agra in order to be formally accepted as Mughal vassals In Agra hundreds of miles from their homeland Shivaji and his son were placed under house arrest where they lived under the threat of execution\\n\\nEscape from Agra\\nUndaunted Shivaji feigned illness and as a form of penance began to send out enormous baskets filled with sweets to be distributed among the poor On August 17 1666 he and his son had themselves carried past their guards in these baskets His escape possibly the most thrilling episode in a life filled with high drama was to change the course of Indian history\\n\\nShivajis followers welcomed him back as their leader and within two years he not only had won back all the lost territory but had expanded his domain He collected tribute from Mughal regions and plundered their rich cities he reorganized the army and instituted reforms for the welfare of his subjects Taking a lesson from the Portuguese and English traders who had already gained toeholds in India Shivaji also began building a naval force he was the first Indian ruler of his time to use his sea power for trade as well as for defense\\n\\nAlmost as though prodded by Shivajis meteoric rise Aurangzeb intensified his persecution of Hindus he imposed a poll tax on them condoned forcible conversions and demolished temples erecting mosques in their places\\n\\nIndependent sovereign\\nIn the summer of 1674 Shivaji had himself enthroned with great fanfare as an independent sovereign His coronation marked the formal beginning of the Maratha empire The suppressed Hindu majority rallied to him as their leader He ruled his domain for six years through a cabinet of eight ministers A devout Hindu who prided himself as the protector of his religion he broke tradition by commanding that two of his relatives who had been forcibly converted to Islam should be taken back into the Hindu fold Even though both Christians and Muslims often imposed their creeds on the populace by force he respected the beliefs and protected the places of worship of both communities Many Muslims were in his service After his coronation his most noteworthy campaign was in the south during which he forged an alliance with the sultans and by doing so prevented the Mughals from spreading their rule over the entire subcontinent\\nShivaji had several wives and two sons His last years were shadowed by the apostasy of his elder son who at one stage defected to the Mughals and was brought back only with the utmost difficulty The strain of guarding his kingdom from its enemies in the face of bitter domestic strife and discord among his ministers hastened his end The man that British politician and author Thomas Babington Macaulay called the Great Shivaji died after an illness in April 1680 in the mountain stronghold of Raigad which he had made his capital\\n\\nShivaji breathed new life into a people that for centuries had resigned itself to serfdom and led them against Aurangzeb a powerful Mughal ruler Above all he was one of the few rulers of his time who practiced true religious tolerance\\n\\nMaratha empire\\nMaratha empire early modern Indian empire that rose in the 17th century and dominated much of the Indian subcontinent during the 18th century The Marathas were a Marathispeaking warrior group mostly from what is now the state of Maharashtra in India They became politically active under the leadership of Shivaji their first king in opposition to the Islamic rulers of the time The formal Maratha empire began in 1674 with the coronation of Shivaji as Chhatrapati Keeper of the Umbrella and ended in 1818 after defeat by the English East India Company\\nThe 17thcentury politics in the Indian subcontinent were dominated by multiple Islamic kingdoms with the Mughal Empire controlling most of north India The Deccan region of central India had been split among five Deccan sultanates but by the 1630s only three of them remained activeBijapur Golconda and Ahmadnagar Shahaji Bhosale was a Maratha general who served these sultanates\\n\\nShivaji the son of Shahaji started a campaign to establish Hindavi Svarajya selfrule of Hindu people by revolting against the Bijapur sultanate and capturing many forts in the Deccan region He warred against the Deccan sultanates and the Mughal Empire as well as the newly emergent English East India Company operating in the ports of western India Shivaji conquered his first fort in 1645 and eventually established a stable kingdom with the capital at Raigad with the support of powerful Maratha warrior families Shivajis army was primarily comprised of highly mobile peasant pastoralists For many years while Shivaji remained the titular head of the Maratha empire he was not officially its king as his coronation had not taken place It was only in 1674 that Shivaji was crowned as Chhatrapati\\n\\nUpon his death Shivaji was succeeded on the throne by his son Sambhaji in 1680 Sambhaji was king until 1689 when he was ambushed captured and executed by the Mughal emperor Aurangzeb Aurangzeb also captured Sambhajis son Shahu and Sambhajis halfbrother Rajaram thus ascended the throne\\n\\nCivil war erupted in 1707 after Aurangzebs death when the new Mughal emperor Bahadur Shah I released Shahu Shahu promptly staked his claim to the throne in opposition to Shivaji II Rajarams son who was ruling with the support of his mother Tarabai In 1713 Shahu appointed Balaji Viswanath as his peshwa chief minister This began the peshwa era of the Maratha empire during which all effective power was concentrated in the peshwa Pune called Poona during the British raj in India became the capital of the peshwas Between 1720 and 1761 the Maratha empire expanded rapidly gradually taking over Mughal territory The Marathas took over Malwa and Gujarat in the 1720s and raided Delhi in 1737 At their peak they controlled most of the subcontinent from Rajasthan and Punjab in the north to Bengal and Orissa in the east and Tanjore in the south By 1758 they had expanded up to Peshawar in presentday Pakistan The Maratha king was recognized as the overlord of the Deccan during this period and had the right to levy chauth literally onefourth a 25 percent land revenue tribute from the zamindars landlords This phase during the 1740s and 50s is recognized by heavy tributes levied by the Marathas on local rulers increasing the hostility to Maratha rule\\n\\nIn 1761 Ahmad Shah Durrani the founder of the Durrani empire of Afghanistan invaded north India The Maratha army met the Afghan army in the Third Battle of Panipat Because of past animosities many local rulers including the Rajputs did not support the Marathas leading to a heavy Maratha defeat at Panipat The bulk of the Maratha army was destroyed and even though the battle was followed by a peace treaty it severely diminished Maratha power in the subcontinent\\n\\nIn the aftermath of the loss at Panipat Madhavrao I became peshwa and helped rebuild the authority of the Marathas in many of their core territories To better manage the Maratha empire he gave autonomy to many of his chieftains leading to the formation of a Maratha confederacy Prominent among these were the Gaekwars of Baroda the Sindhias of Gwalior and the Holkars of Indore who all went on to form independent kingdoms after the end of the Maratha empire But the death of Madhavrao in 1772 created a power vacuum at the centre of the empire Henceforward the Maratha chieftains would wield power the peshwa retaining only titular control\\n\\nThe later Maratha years were characterized by wars with the kingdom of Mysore and with the East India Company The First AngloMaratha War ran from 1775 to 1782 and ended with a Maratha victory The First MarathaMysore War lasted from 1785 to 1787 and led to animosity with Tippu Sultan the de facto ruler of Mysore The Marathas then aided the British in the last two of four AngloMysore wars helping turn the tide against Mysore and leading to a British victory in 1799 British interventions in the Maratha chieftains affairs led to the Second AngloMaratha War from 1803 to 1805 causing significant loss of territory for the Marathas The Marathas were the last major force opposing the British in the subcontinent and this came to an end in 1818 with Maratha defeat in the Third AngloMaratha War followed by the exile of the peshwa Bajirao II and Maratha territory coming under direct British rule Some territories such as Baroda and Indore retained titular independence as princely states under the British\\n\\nThe Maratha empire was noted for developing an efficient administration system with strong encouragement for agriculture and trade It was also noted for building a strong navy under Kanhoji Angre and a series of forts on the western coast of India In the wake of the Indian independence movement the Maratha empire and especially Shivaji received a lot of focus with Indian nationalists defining the Marathas as heroes of Hindu nationalism against Mughal tyranny The Marathas perfected the art of guerrilla warfare and used it effectively against the Mughals The restoration of several temples such as the Saptakoteshwar Temple in Goa has been cited as evidence of the Marathas fight for Hindu freedom\\n\\nMughal dynasty India 15261857\\nMughal dynasty Muslim dynasty of TurkicMongol origin that ruled most of northern India from the early 16th to the mid18th century After that time it continued to exist as a considerably reduced and increasingly powerless entity until the mid19th century The Mughal dynasty was notable for its more than two centuries of effective rule over much of India for the ability of its rulers who through seven generations maintained a record of unusual talent and for its administrative organization A further distinction was the attempt of the Mughals who were Muslims to integrate Hindus and Muslims into a united Indian state\\n\\nBbur and the establishment of the Mughals\\nThe dynasty was founded by a Chagatai Turkic prince named Bbur reigned 152630 who was descended from the Turkic conqueror Timur Tamerlane on his fathers side and from Chagatai second son of the Mongol ruler Genghis Khan on his mothers side Bburs father Umar Shaykh Mrz ruled the small principality of Fergana to the north of the Hindu Kush mountain range Bbur inherited the principality at a young age in 1494\\n\\nIn 1504 he conquered Kabul and Ghazn and established himself there In 1511 he captured Samarkand only to realize that with the formidable Safavid dynasty in Iran and the Uzbeks in Central Asia he should rather turn to the southeast toward India to have an empire of his own As a Timurid Bbur had an eye on the Punjab part of which had been Timurs possession He made several excursions in the tribal habitats there Between 1519 and 1524when he invaded Bhera Sialkot and Lahorehe showed his definite intention to conquer Hindustan where the political scene favoured his adventure\\n\\nHaving secured the Punjab Bbur advanced toward Delhi garnering support from many Delhi nobles He routed two advance troop contingents of Ibrhm Lod Delhis sultan and met the sultans main army at the First Battle of Panipat By April 1526 he was in control of Delhi and Agra and held the keys to conquer Hindustan\\n\\nThe Rajput confederacy however under Rana Sanga of Mewar threatened to revive their power in northern India Bbur led an expedition against the rana and crushed the ranas forces at Khanua near Fatehpur Sikri March 1527 once again by means of the skillful positioning of troops Bbur then continued his campaigns to subjugate the Rajputs of Chanderi When Afghan risings turned him to the east he had to fight among others the joint forces of the Afghans and the sultan of Bengal in 1529 at Ghaghara near Varanasi Bbur won the battles but the expedition there too like the one on the southern borders was left unfinished Developments in Central Asia and Bburs failing health forced him to withdraw He died near Lahore in December 1530\\n\\nHumyn\\nBburs son Humyn inherited the hope rather than the fact of empire because the Afghans and Rajputs were merely restrained but not reconciled to Mughal supremacy by the Mughal victories at Panipat 1526 Khanua 1527 and the Ghaghara 1529 Bahdur Shah of Gujarat encouraged by Afghan and Mughal migrs challenged the Mughals in Rajasthan and although Humyn occupied Gujarat in 1535 the danger there ended only with Bahdurs death in 1537 Meanwhile an Afghan soldier of fortune Shr Shah of Sr had consolidated his power in Bihar and Bengal He defeated Humyn at Chausa in 1539 and at Kannauj in 1540 expelling him from India\\nReaching Iran in 1544 Humyn was granted military aid by Shah ahmsp and went on to conquer Kandahr 1545 and to seize Kabul three times from his own disloyal brother Kmrn the final time being in 1550 Taking advantage of civil wars among the descendants of Shr Shah Humyn captured Lahore in February 1555 and after defeating Sikandar Sr the rebel Afghan governor of the Punjab at Sirhind he recovered Delhi and Agra that July Humyn was fatally injured by falling down the staircase of his library His tomb in Delhi built several years after his death is the first of the great Mughal architectural masterpieces it was designated a UNESCO World Heritage site in 1993\\n\\nAkbar the Great and the consolidation of the empire\\nWithin a few months of Humyns death his governors lost several important cities and regions including Delhi itself to Hemu a Hindu minister who had claimed the throne for himself Humyns son Akbar reigned 15561605 under the guidance of the regent Bayram Khan defeated Hemu at the Second Battle of Panipat 1556 which commanded the route to Delhi and thereby turned the tide in Hindustan to the Mughal dynastys favour\\nAlthough Akbar inherited an empire in shambles he proved an extremely capable ruler His expansion and absorption of vast territories established an empire across northern and parts of central India at his death in 1605 the empire extended from Afghanistan to the Bay of Bengal and southward to what is now Gujarat state and the northern Deccan region peninsular India The political administrative and military structures that he created to govern the empire were the chief factor behind its continued survival for another century and a half\\n\\nOne of the notable features of Akbars government was the extent of Hindu and particularly Rajput participation Rajput princes attained the highest ranks as generals and as provincial governors in the Mughal service Discrimination against nonMuslims was reduced by abolishing the taxation of pilgrims and the tax payable by nonMuslims jizyah in lieu of military service Yet Akbar was far more successful than any previous Muslim ruler in winning the cooperation of Hindus at all levels in his administration The further expansion of his territories gave them fresh opportunities\\n\\nThe incorporation of the zealously independent Hindu Rajputs inhabiting the rugged hilly Rajputana region came about through a policy of conciliation and conquest When in 1562 Raja Bihari Mal of Amber now Jaipur threatened by a succession dispute offered Akbar his daughter in marriage Akbar accepted the offer The raja acknowledged Akbars suzerainty and his sons prospered in Akbars service Akbar followed the same feudal policy toward the other Rajput chiefs They were allowed to hold their ancestral territories provided that they acknowledged Akbar as emperor paid tribute supplied troops when required and concluded a marriage alliance with him The emperors service was also opened to them and their sons which offered financial rewards as well as honour However Akbar showed no mercy to those who refused to acknowledge his supremacy after protracted fighting in Mewar Akbar captured the historic fortress of Chitor now Chittaurgarh in 1568 and massacred its inhabitants\\n\\nMeanwhile Akbar needed a way to maintain his status as a Muslim ruler while eliciting active support from his now predominantly nonMuslim subjects In addition to annulling the jizyah he abolished the practice of forcibly converting prisoners of war to Islam and encouraged Hindus as his principal confidants and policy makers To legitimize his nonsectarian policies he issued in 1579 a public edict maar declaring his right to be the supreme arbiter in Muslim religious mattersabove the body of Muslim religious scholars and jurists whom Akbar had come to consider as shallow He had by then also undertaken a number of stern measures to reform the administration of religious grants which were now available to learned and pious men of all religions including Hindu pandits Jain and Christian missionaries and Parsi priests The emperor created a new order commonly called the Dne Ilh Divine Faith which was modeled on the Muslim mystical Sufi brotherhood but was devised with the object of forging the diverse groups in the service of the state into one cohesive political community\\n\\nOther notable features of Akbars government included the streamlining of both military and civil administration He consolidated military ranks into a standard system under his authority and regular checks on rank holders manabdrs ensured a reasonable correlation between their obligations and their income He also seems to have instituted more efficient revenue assessment and collection in an effort to safeguard the peasants from excessive demands and the state from loss of money\\n\\nToward the end of his reign Akbar embarked on a fresh round of conquests The Kashmir region was subjugated in 1586 Sindh in 1591 and Kandahr Afghanistan in 1595 Mughal troops now moved south of the Vindhya Range into the Deccan By 1601 Khandesh Berar and part of Ahmadnagar had been added to Akbars empire His last years were troubled by the rebellious behaviour of his son Prince Salm later the emperor Jahngr who was eager for power\\n\\n\\n',\n",
       " 'number': 5,\n",
       " 'subject': 'History',\n",
       " 'tone': 'simple',\n",
       " 'RESPONSE_JSON': '{\"1\": {\"mcq\": \"multiple choice question\", \"options\": {\"a\": \"choice here\", \"b\": \"choice here\", \"c\": \"choice here\", \"d\": \"choice here\"}, \"correct\": \"correct answer\"}, \"2\": {\"mcq\": \"multiple choice question\", \"options\": {\"a\": \"choice here\", \"b\": \"choice here\", \"c\": \"choice here\", \"d\": \"choice here\"}, \"correct\": \"correct answer\"}, \"3\": {\"mcq\": \"multiple choice question\", \"options\": {\"a\": \"choice here\", \"b\": \"choice here\", \"c\": \"choice here\", \"d\": \"choice here\"}, \"correct\": \"correct answer\"}}',\n",
       " 'quiz': '{\\n    \"1\": {\\n        \"mcq\": \"Who founded the Maratha kingdom in 17th century India?\",\\n        \"options\": {\\n            \"a\": \"Akbar\",\\n            \"b\": \"Shivaji\",\\n            \"c\": \"Aurangzeb\",\\n            \"d\": \"Humayun\"\\n        },\\n        \"correct\": \"b\"\\n    },\\n    \"2\": {\\n        \"mcq\": \"Which battle turned the tide in favor of the Mughal dynasty in Hindustan?\",\\n        \"options\": {\\n            \"a\": \"First Battle of Panipat\",\\n            \"b\": \"Second Battle of Panipat\",\\n            \"c\": \"Battle of Khanua\",\\n            \"d\": \"Battle of Ghaghara\"\\n        },\\n        \"correct\": \"b\"\\n    },\\n    \"3\": {\\n        \"mcq\": \"Which Mughal emperor is known for his policy of conciliation and conquest towards the Rajputs?\",\\n        \"options\": {\\n            \"a\": \"Akbar\",\\n            \"b\": \"Shah Jahan\",\\n            \"c\": \"Jahangir\",\\n            \"d\": \"Babur\"\\n        },\\n        \"correct\": \"a\"\\n    },\\n    \"4\": {\\n        \"mcq\": \"In which year did Shivaji have himself enthroned as an independent sovereign?\",\\n        \"options\": {\\n            \"a\": \"1650\",\\n            \"b\": \"1674\",\\n            \"c\": \"1680\",\\n            \"d\": \"1700\"\\n        },\\n        \"correct\": \"b\"\\n    },\\n    \"5\": {\\n        \"mcq\": \"Which Afghan ruler defeated Humayun and expelled him from India?\",\\n        \"options\": {\\n            \"a\": \"Shah Jahan\",\\n            \"b\": \"Shah Alam\",\\n            \"c\": \"Sher Shah Suri\",\\n            \"d\": \"Bahadur Shah\"\\n        },\\n        \"correct\": \"c\"\\n    }\\n}',\n",
       " 'review': 'The complexity of the quiz is appropriate for History students as it tests their knowledge of key events and figures in Indian history. The questions cover a range of topics and require a good understanding of the subject matter. No changes are needed.'}"
      ]
     },
     "execution_count": 21,
     "metadata": {},
     "output_type": "execute_result"
    }
   ],
   "source": [
    "response"
   ]
  },
  {
   "cell_type": "code",
   "execution_count": 22,
   "metadata": {},
   "outputs": [],
   "source": [
    "quiz = response.get(\"quiz\")"
   ]
  },
  {
   "cell_type": "code",
   "execution_count": 23,
   "metadata": {},
   "outputs": [
    {
     "data": {
      "text/plain": [
       "'{\\n    \"1\": {\\n        \"mcq\": \"Who founded the Maratha kingdom in 17th century India?\",\\n        \"options\": {\\n            \"a\": \"Akbar\",\\n            \"b\": \"Shivaji\",\\n            \"c\": \"Aurangzeb\",\\n            \"d\": \"Humayun\"\\n        },\\n        \"correct\": \"b\"\\n    },\\n    \"2\": {\\n        \"mcq\": \"Which battle turned the tide in favor of the Mughal dynasty in Hindustan?\",\\n        \"options\": {\\n            \"a\": \"First Battle of Panipat\",\\n            \"b\": \"Second Battle of Panipat\",\\n            \"c\": \"Battle of Khanua\",\\n            \"d\": \"Battle of Ghaghara\"\\n        },\\n        \"correct\": \"b\"\\n    },\\n    \"3\": {\\n        \"mcq\": \"Which Mughal emperor is known for his policy of conciliation and conquest towards the Rajputs?\",\\n        \"options\": {\\n            \"a\": \"Akbar\",\\n            \"b\": \"Shah Jahan\",\\n            \"c\": \"Jahangir\",\\n            \"d\": \"Babur\"\\n        },\\n        \"correct\": \"a\"\\n    },\\n    \"4\": {\\n        \"mcq\": \"In which year did Shivaji have himself enthroned as an independent sovereign?\",\\n        \"options\": {\\n            \"a\": \"1650\",\\n            \"b\": \"1674\",\\n            \"c\": \"1680\",\\n            \"d\": \"1700\"\\n        },\\n        \"correct\": \"b\"\\n    },\\n    \"5\": {\\n        \"mcq\": \"Which Afghan ruler defeated Humayun and expelled him from India?\",\\n        \"options\": {\\n            \"a\": \"Shah Jahan\",\\n            \"b\": \"Shah Alam\",\\n            \"c\": \"Sher Shah Suri\",\\n            \"d\": \"Bahadur Shah\"\\n        },\\n        \"correct\": \"c\"\\n    }\\n}'"
      ]
     },
     "execution_count": 23,
     "metadata": {},
     "output_type": "execute_result"
    }
   ],
   "source": [
    "quiz"
   ]
  },
  {
   "cell_type": "code",
   "execution_count": 24,
   "metadata": {},
   "outputs": [],
   "source": [
    "quiz=json.loads(quiz)"
   ]
  },
  {
   "cell_type": "code",
   "execution_count": 25,
   "metadata": {},
   "outputs": [
    {
     "data": {
      "text/plain": [
       "{'1': {'mcq': 'Who founded the Maratha kingdom in 17th century India?',\n",
       "  'options': {'a': 'Akbar', 'b': 'Shivaji', 'c': 'Aurangzeb', 'd': 'Humayun'},\n",
       "  'correct': 'b'},\n",
       " '2': {'mcq': 'Which battle turned the tide in favor of the Mughal dynasty in Hindustan?',\n",
       "  'options': {'a': 'First Battle of Panipat',\n",
       "   'b': 'Second Battle of Panipat',\n",
       "   'c': 'Battle of Khanua',\n",
       "   'd': 'Battle of Ghaghara'},\n",
       "  'correct': 'b'},\n",
       " '3': {'mcq': 'Which Mughal emperor is known for his policy of conciliation and conquest towards the Rajputs?',\n",
       "  'options': {'a': 'Akbar', 'b': 'Shah Jahan', 'c': 'Jahangir', 'd': 'Babur'},\n",
       "  'correct': 'a'},\n",
       " '4': {'mcq': 'In which year did Shivaji have himself enthroned as an independent sovereign?',\n",
       "  'options': {'a': '1650', 'b': '1674', 'c': '1680', 'd': '1700'},\n",
       "  'correct': 'b'},\n",
       " '5': {'mcq': 'Which Afghan ruler defeated Humayun and expelled him from India?',\n",
       "  'options': {'a': 'Shah Jahan',\n",
       "   'b': 'Shah Alam',\n",
       "   'c': 'Sher Shah Suri',\n",
       "   'd': 'Bahadur Shah'},\n",
       "  'correct': 'c'}}"
      ]
     },
     "execution_count": 25,
     "metadata": {},
     "output_type": "execute_result"
    }
   ],
   "source": [
    "quiz"
   ]
  },
  {
   "cell_type": "code",
   "execution_count": 26,
   "metadata": {},
   "outputs": [],
   "source": [
    "quiz_table_data = []\n",
    "for key, value in quiz.items():\n",
    "    mcq = value[\"mcq\"]\n",
    "    options = \" | \".join(\n",
    "        [\n",
    "            f\"{option}: {option_value}\"\n",
    "            for option, option_value in value[\"options\"].items()\n",
    "            ]\n",
    "        )\n",
    "    correct = value[\"correct\"]\n",
    "    quiz_table_data.append({\"MCQ\": mcq, \"Choices\": options, \"Correct\": correct})"
   ]
  },
  {
   "cell_type": "code",
   "execution_count": 27,
   "metadata": {},
   "outputs": [
    {
     "data": {
      "text/plain": [
       "[{'MCQ': 'Who founded the Maratha kingdom in 17th century India?',\n",
       "  'Choices': 'a: Akbar | b: Shivaji | c: Aurangzeb | d: Humayun',\n",
       "  'Correct': 'b'},\n",
       " {'MCQ': 'Which battle turned the tide in favor of the Mughal dynasty in Hindustan?',\n",
       "  'Choices': 'a: First Battle of Panipat | b: Second Battle of Panipat | c: Battle of Khanua | d: Battle of Ghaghara',\n",
       "  'Correct': 'b'},\n",
       " {'MCQ': 'Which Mughal emperor is known for his policy of conciliation and conquest towards the Rajputs?',\n",
       "  'Choices': 'a: Akbar | b: Shah Jahan | c: Jahangir | d: Babur',\n",
       "  'Correct': 'a'},\n",
       " {'MCQ': 'In which year did Shivaji have himself enthroned as an independent sovereign?',\n",
       "  'Choices': 'a: 1650 | b: 1674 | c: 1680 | d: 1700',\n",
       "  'Correct': 'b'},\n",
       " {'MCQ': 'Which Afghan ruler defeated Humayun and expelled him from India?',\n",
       "  'Choices': 'a: Shah Jahan | b: Shah Alam | c: Sher Shah Suri | d: Bahadur Shah',\n",
       "  'Correct': 'c'}]"
      ]
     },
     "execution_count": 27,
     "metadata": {},
     "output_type": "execute_result"
    }
   ],
   "source": [
    "quiz_table_data"
   ]
  },
  {
   "cell_type": "code",
   "execution_count": 28,
   "metadata": {},
   "outputs": [],
   "source": [
    "quiz_table = pd.DataFrame(quiz_table_data)"
   ]
  },
  {
   "cell_type": "code",
   "execution_count": 29,
   "metadata": {},
   "outputs": [
    {
     "data": {
      "text/html": [
       "<div>\n",
       "<style scoped>\n",
       "    .dataframe tbody tr th:only-of-type {\n",
       "        vertical-align: middle;\n",
       "    }\n",
       "\n",
       "    .dataframe tbody tr th {\n",
       "        vertical-align: top;\n",
       "    }\n",
       "\n",
       "    .dataframe thead th {\n",
       "        text-align: right;\n",
       "    }\n",
       "</style>\n",
       "<table border=\"1\" class=\"dataframe\">\n",
       "  <thead>\n",
       "    <tr style=\"text-align: right;\">\n",
       "      <th></th>\n",
       "      <th>MCQ</th>\n",
       "      <th>Choices</th>\n",
       "      <th>Correct</th>\n",
       "    </tr>\n",
       "  </thead>\n",
       "  <tbody>\n",
       "    <tr>\n",
       "      <th>0</th>\n",
       "      <td>Who founded the Maratha kingdom in 17th centur...</td>\n",
       "      <td>a: Akbar | b: Shivaji | c: Aurangzeb | d: Humayun</td>\n",
       "      <td>b</td>\n",
       "    </tr>\n",
       "    <tr>\n",
       "      <th>1</th>\n",
       "      <td>Which battle turned the tide in favor of the M...</td>\n",
       "      <td>a: First Battle of Panipat | b: Second Battle ...</td>\n",
       "      <td>b</td>\n",
       "    </tr>\n",
       "    <tr>\n",
       "      <th>2</th>\n",
       "      <td>Which Mughal emperor is known for his policy o...</td>\n",
       "      <td>a: Akbar | b: Shah Jahan | c: Jahangir | d: Babur</td>\n",
       "      <td>a</td>\n",
       "    </tr>\n",
       "    <tr>\n",
       "      <th>3</th>\n",
       "      <td>In which year did Shivaji have himself enthron...</td>\n",
       "      <td>a: 1650 | b: 1674 | c: 1680 | d: 1700</td>\n",
       "      <td>b</td>\n",
       "    </tr>\n",
       "    <tr>\n",
       "      <th>4</th>\n",
       "      <td>Which Afghan ruler defeated Humayun and expell...</td>\n",
       "      <td>a: Shah Jahan | b: Shah Alam | c: Sher Shah Su...</td>\n",
       "      <td>c</td>\n",
       "    </tr>\n",
       "  </tbody>\n",
       "</table>\n",
       "</div>"
      ],
      "text/plain": [
       "                                                 MCQ  \\\n",
       "0  Who founded the Maratha kingdom in 17th centur...   \n",
       "1  Which battle turned the tide in favor of the M...   \n",
       "2  Which Mughal emperor is known for his policy o...   \n",
       "3  In which year did Shivaji have himself enthron...   \n",
       "4  Which Afghan ruler defeated Humayun and expell...   \n",
       "\n",
       "                                             Choices Correct  \n",
       "0  a: Akbar | b: Shivaji | c: Aurangzeb | d: Humayun       b  \n",
       "1  a: First Battle of Panipat | b: Second Battle ...       b  \n",
       "2  a: Akbar | b: Shah Jahan | c: Jahangir | d: Babur       a  \n",
       "3              a: 1650 | b: 1674 | c: 1680 | d: 1700       b  \n",
       "4  a: Shah Jahan | b: Shah Alam | c: Sher Shah Su...       c  "
      ]
     },
     "execution_count": 29,
     "metadata": {},
     "output_type": "execute_result"
    }
   ],
   "source": [
    "quiz_table"
   ]
  },
  {
   "cell_type": "code",
   "execution_count": 31,
   "metadata": {},
   "outputs": [],
   "source": [
    "# quiz_table.to_csv(\"historyQ&A.csv\",index=False)"
   ]
  },
  {
   "cell_type": "code",
   "execution_count": 32,
   "metadata": {},
   "outputs": [],
   "source": [
    "import logging\n",
    "import os\n",
    "from datetime import datetime"
   ]
  },
  {
   "cell_type": "code",
   "execution_count": 33,
   "metadata": {},
   "outputs": [
    {
     "data": {
      "text/plain": [
       "datetime.datetime(2024, 12, 23, 16, 11, 53, 152141)"
      ]
     },
     "execution_count": 33,
     "metadata": {},
     "output_type": "execute_result"
    }
   ],
   "source": [
    "datetime.now()"
   ]
  },
  {
   "cell_type": "code",
   "execution_count": 34,
   "metadata": {},
   "outputs": [
    {
     "data": {
      "text/plain": [
       "'12_23_2024_16_11_56'"
      ]
     },
     "execution_count": 34,
     "metadata": {},
     "output_type": "execute_result"
    }
   ],
   "source": [
    "datetime.now().strftime('%m_%d_%Y_%H_%M_%S')"
   ]
  },
  {
   "cell_type": "code",
   "execution_count": null,
   "metadata": {},
   "outputs": [],
   "source": []
  },
  {
   "cell_type": "code",
   "execution_count": null,
   "metadata": {},
   "outputs": [],
   "source": []
  }
 ],
 "metadata": {
  "kernelspec": {
   "display_name": "Python 3",
   "language": "python",
   "name": "python3"
  },
  "language_info": {
   "codemirror_mode": {
    "name": "ipython",
    "version": 3
   },
   "file_extension": ".py",
   "mimetype": "text/x-python",
   "name": "python",
   "nbconvert_exporter": "python",
   "pygments_lexer": "ipython3",
   "version": "3.8.20"
  }
 },
 "nbformat": 4,
 "nbformat_minor": 2
}
